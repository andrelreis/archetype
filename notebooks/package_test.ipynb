{
 "cells": [
  {
   "cell_type": "code",
   "execution_count": 2,
   "id": "ab835ebc-9551-41a4-82cc-c91884830a91",
   "metadata": {},
   "outputs": [],
   "source": [
    "import archetype\n",
    "from archetype import example0\n",
    "from archetype.module_1 import example1"
   ]
  },
  {
   "cell_type": "code",
   "execution_count": 4,
   "id": "6fff02a2",
   "metadata": {},
   "outputs": [
    {
     "data": {
      "text/plain": [
       "4"
      ]
     },
     "execution_count": 4,
     "metadata": {},
     "output_type": "execute_result"
    }
   ],
   "source": [
    "example0.product(2)"
   ]
  },
  {
   "cell_type": "code",
   "execution_count": 3,
   "id": "2ab545a5-3ecf-4677-bd5d-6d0c2e39fd88",
   "metadata": {},
   "outputs": [
    {
     "data": {
      "text/plain": [
       "2"
      ]
     },
     "execution_count": 3,
     "metadata": {},
     "output_type": "execute_result"
    }
   ],
   "source": [
    "example1.add_one(1)"
   ]
  }
 ],
 "metadata": {
  "kernelspec": {
   "display_name": "Python 3 (ipykernel)",
   "language": "python",
   "name": "python3"
  },
  "language_info": {
   "codemirror_mode": {
    "name": "ipython",
    "version": 3
   },
   "file_extension": ".py",
   "mimetype": "text/x-python",
   "name": "python",
   "nbconvert_exporter": "python",
   "pygments_lexer": "ipython3",
   "version": "3.11.5"
  }
 },
 "nbformat": 4,
 "nbformat_minor": 5
}
