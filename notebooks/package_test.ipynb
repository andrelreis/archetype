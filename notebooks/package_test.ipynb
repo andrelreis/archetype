{
 "cells": [
  {
   "cell_type": "code",
   "execution_count": 1,
   "id": "ab835ebc-9551-41a4-82cc-c91884830a91",
   "metadata": {},
   "outputs": [],
   "source": [
    "import archetype\n",
    "from archetype import modules_1\n",
    "from archetype import functions_0\n",
    "from archetype.modules_1 import functions_1\n",
    "from archetype.modules_1.functions_1 import add_one\n",
    "from archetype.functions_0 import product"
   ]
  },
  {
   "cell_type": "code",
   "execution_count": 2,
   "id": "18905eb3-3cb7-4cc6-9c5f-279163b7fb8e",
   "metadata": {},
   "outputs": [
    {
     "data": {
      "text/plain": [
       "3"
      ]
     },
     "execution_count": 2,
     "metadata": {},
     "output_type": "execute_result"
    }
   ],
   "source": [
    "archetype.modules_1.functions_1.add_one(2)"
   ]
  },
  {
   "cell_type": "code",
   "execution_count": 3,
   "id": "aff4ef7e-40b9-4a3d-9d9f-2d4182e02c5e",
   "metadata": {},
   "outputs": [
    {
     "data": {
      "text/plain": [
       "8"
      ]
     },
     "execution_count": 3,
     "metadata": {},
     "output_type": "execute_result"
    }
   ],
   "source": [
    "archetype.functions_0.product(4)"
   ]
  },
  {
   "cell_type": "code",
   "execution_count": 5,
   "id": "b22697b3-2350-49a2-9b13-6c1341a45c98",
   "metadata": {},
   "outputs": [
    {
     "data": {
      "text/plain": [
       "3"
      ]
     },
     "execution_count": 5,
     "metadata": {},
     "output_type": "execute_result"
    }
   ],
   "source": [
    "functions_1.add_one(2)"
   ]
  },
  {
   "cell_type": "code",
   "execution_count": 6,
   "id": "36a10f40-e3dd-40b2-9190-eebd181c5bf6",
   "metadata": {},
   "outputs": [
    {
     "data": {
      "text/plain": [
       "3"
      ]
     },
     "execution_count": 6,
     "metadata": {},
     "output_type": "execute_result"
    }
   ],
   "source": [
    "modules_1.add_one(2)"
   ]
  },
  {
   "cell_type": "code",
   "execution_count": 7,
   "id": "5c31bed2-053c-441b-bc75-82d48bc423ba",
   "metadata": {},
   "outputs": [
    {
     "data": {
      "text/plain": [
       "8"
      ]
     },
     "execution_count": 7,
     "metadata": {},
     "output_type": "execute_result"
    }
   ],
   "source": [
    "functions_0.product(4)"
   ]
  },
  {
   "cell_type": "code",
   "execution_count": 8,
   "id": "889c4a05-719c-4eef-bcdb-fb8271eeeccd",
   "metadata": {},
   "outputs": [
    {
     "data": {
      "text/plain": [
       "3"
      ]
     },
     "execution_count": 8,
     "metadata": {},
     "output_type": "execute_result"
    }
   ],
   "source": [
    "add_one(2)"
   ]
  },
  {
   "cell_type": "code",
   "execution_count": 9,
   "id": "46ab6278-2fb6-4a88-ab39-1a2511b4e5c0",
   "metadata": {},
   "outputs": [
    {
     "data": {
      "text/plain": [
       "8"
      ]
     },
     "execution_count": 9,
     "metadata": {},
     "output_type": "execute_result"
    }
   ],
   "source": [
    "product(4)"
   ]
  }
 ],
 "metadata": {
  "kernelspec": {
   "display_name": "Python 3 (ipykernel)",
   "language": "python",
   "name": "python3"
  },
  "language_info": {
   "codemirror_mode": {
    "name": "ipython",
    "version": 3
   },
   "file_extension": ".py",
   "mimetype": "text/x-python",
   "name": "python",
   "nbconvert_exporter": "python",
   "pygments_lexer": "ipython3",
   "version": "3.11.5"
  }
 },
 "nbformat": 4,
 "nbformat_minor": 5
}
